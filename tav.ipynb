{
 "cells": [
  {
   "cell_type": "code",
   "execution_count": 2,
   "metadata": {},
   "outputs": [
    {
     "name": "stdout",
     "output_type": "stream",
     "text": [
      "{'query': 'who is Gershon omoraka', 'follow_up_questions': None, 'answer': None, 'images': [], 'results': [{'title': 'Gershon Oghenetega Omoraka - AI Software Developer - MBL Hightech ...', 'url': 'https://ng.linkedin.com/in/gershon-oghenetega-omoraka-478058177', 'content': 'Gershon Oghenetega Omoraka\\nEmbedded System |Python and AI Software Developer | AWS MLOps | API \\nAbuja, Nigeria\\n500 connections, 688 followers\\n\\n\\nAbout:\\nAs a highly motivated and versatile software developer with a deep passion for Generative AI, I leverage my Python expertise and AI software skills to design and implement innovative solutions across various domains. I excel in wielding Large Language Models (LLMs) for diverse tasks like retrieval-augmented generation and summarization, and craft effective prompts to unlock their full potential. Possessing a solid understanding of deep learning and machine learning for NLP, computer vision, and more, I actively stay ahead of the curve in AI advancements. Driven by the desire to collaborate and push the boundaries of Generative AI, I seek opportunities to create positive global impact.\\n\\n\\nExperience:\\nAI Software Developer at MBL Hightech (https://www.linkedin.com/company/mbl-hightech/)\\nNov 2023 - Present\\nKyrenia, Kyrenia, Cyprus\\n\\n\\nEducation:\\nNear East University (NEU)\\nMaster of Science - MS, Artificial Intelligence\\nSep 2021 - Jun 2023\\nGrade: N/A\\nActivities and societies: N/A', 'score': 0.76152116, 'raw_content': None}, {'title': 'Gershon Oghenetega Omoraka - MBL Hightech - LinkedIn', 'url': 'https://tr.linkedin.com/in/gershon-oghenetega-omoraka-478058177', 'content': 'Gershon Oghenetega Omoraka\\nEmbedded System |Python and AI Software Developer | AWS MLOps | API \\nAbuja, Nigeria\\n500 connections, 688 followers\\n\\n\\nAbout:\\nAs a highly motivated and versatile software developer with a deep passion for Generative AI, I leverage my Python expertise and AI software skills to design and implement innovative solutions across various domains. I excel in wielding Large Language Models (LLMs) for diverse tasks like retrieval-augmented generation and summarization, and craft effective prompts to unlock their full potential. Possessing a solid understanding of deep learning and machine learning for NLP, computer vision, and more, I actively stay ahead of the curve in AI advancements. Driven by the desire to collaborate and push the boundaries of Generative AI, I seek opportunities to create positive global impact.\\n\\n\\nExperience:\\nAI Software Developer at MBL Hightech (https://www.linkedin.com/company/mbl-hightech/)\\nNov 2023 - Present\\nKyrenia, Kyrenia, Cyprus\\n\\n\\nEducation:\\nNear East University (NEU)\\nMaster of Science - MS, Artificial Intelligence\\nSep 2021 - Jun 2023\\nGrade: N/A\\nActivities and societies: N/A', 'score': 0.7610953, 'raw_content': None}, {'title': 'Gershon Omoraka (@d_gershonite) • Instagram photos and videos', 'url': 'https://www.instagram.com/d_gershonite/', 'content': '705 Followers, 4,487 Following, 89 Posts - Gershon Omoraka (@d_gershonite) on Instagram: \"Electronics and Communication Engineer | Al Software Engineer | Gospel Music Producer | Multi-Instrumentalists 論| _ @tegatronics\"', 'score': 0.6364215, 'raw_content': None}, {'title': '3 \"Gershon Oghenetega Omoraka\" profiles | LinkedIn', 'url': 'https://www.linkedin.com/pub/dir/Gershon+Oghenetega/Omoraka', 'content': 'View the profiles of professionals named \"Gershon Oghenetega Omoraka\" on LinkedIn. There are 3 professionals named \"Gershon Oghenetega Omoraka\", who use LinkedIn to exchange information, ideas', 'score': 0.534443, 'raw_content': None}, {'title': 'Gershon Omoraka Profiles - Facebook', 'url': 'https://www.facebook.com/public/Gershon-Omoraka/', 'content': 'View the profiles of people named Gershon Omoraka. Join Facebook to connect with Gershon Omoraka and others you may know. Facebook gives people the power', 'score': 0.5167668, 'raw_content': None}], 'response_time': 1.64}\n"
     ]
    }
   ],
   "source": [
    "from tavily import TavilyClient\n",
    "client = TavilyClient(\"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\")\n",
    "response = client.search(\n",
    "    query=\"who is Gershon omoraka\"\n",
    ")\n",
    "print(response)"
   ]
  },
  {
   "cell_type": "code",
   "execution_count": null,
   "metadata": {},
   "outputs": [],
   "source": []
  }
 ],
 "metadata": {
  "kernelspec": {
   "display_name": "myenv",
   "language": "python",
   "name": "python3"
  },
  "language_info": {
   "codemirror_mode": {
    "name": "ipython",
    "version": 3
   },
   "file_extension": ".py",
   "mimetype": "text/x-python",
   "name": "python",
   "nbconvert_exporter": "python",
   "pygments_lexer": "ipython3",
   "version": "3.12.0"
  }
 },
 "nbformat": 4,
 "nbformat_minor": 2
}
